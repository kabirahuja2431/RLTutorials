{
 "cells": [
  {
   "attachments": {
    "cartpole.jpg": {
     "image/jpeg": "[encoded data removed]"
    },
    "lunarlander.jpg": {
     "image/jpeg": "[encoded data removed]"
    }
   },
   "cell_type": "markdown",
   "metadata": {},
   "source": [
    "# REINFORCE (Vanilla Policy Gradients)\n",
    "\n",
    "In this notebook we will implementing REINFORCE algorithm on 2 environments : a) CartPole b) Lunar Landing. We will be using OpenAI's gym library to use these environments. Both of these environments have discrete action spaces, so we will have a softmax policy in both cases. Our Policy network will be a 2 layer fully connected neural net with ReLU activation for the hidden layer.\n",
    "\n",
    "![cartpole.jpg](attachment:cartpole.jpg)\n",
    "\n",
    "![lunarlander.jpg](attachment:lunarlander.jpg)"
   ]
  },
  {
   "cell_type": "code",
   "execution_count": 1,
   "metadata": {},
   "outputs": [],
   "source": [
    "import numpy as np\n",
    "import torch\n",
    "import torch.nn as nn\n",
    "import torch.optim as optim\n",
    "import gym\n",
    "import matplotlib.pyplot as plt\n",
    "import time"
   ]
  },
  {
   "cell_type": "markdown",
   "metadata": {},
   "source": [
    "## Gym\n",
    "\n",
    "OpenAI's gym package provides a wide variety of environments to train reinforcement learning agents on. The environments can be broadly classified into 6 categories:\n",
    "\n",
    "- Atari : Breakout, Pong etc.\n",
    "- Box2D : Lunar Lander, Car Racing etc.\n",
    "- Classic Control : Cart Pole, Acrobat etc.\n",
    "- MuJoCo : Half Cheetah, Walker etc.\n",
    "- Robotics : Fetch Pick And Place, Fetch And Push etc.\n",
    "- Toy text : Black Jack, Frozen Lake"
   ]
  },
  {
   "cell_type": "code",
   "execution_count": 2,
   "metadata": {},
   "outputs": [],
   "source": [
    "# A gym environment can be initialize by using make method of gym.\n",
    "env = gym.make('CartPole-v0')"
   ]
  },
  {
   "cell_type": "code",
   "execution_count": 3,
   "metadata": {},
   "outputs": [
    {
     "name": "stdout",
     "output_type": "stream",
     "text": [
      "Box(4,)\n",
      "Discrete(2)\n"
     ]
    }
   ],
   "source": [
    "# Each environment will have observation_space and action_space as instance fields.\n",
    "# Continuous spaces are of type Box, and discrete spaces are of type DISCRETE.\n",
    "print(env.observation_space)\n",
    "print(env.action_space)"
   ]
  },
  {
   "cell_type": "code",
   "execution_count": 4,
   "metadata": {},
   "outputs": [
    {
     "name": "stdout",
     "output_type": "stream",
     "text": [
      "[ 0.02264221  0.04307462  0.01336899 -0.02014084]\n"
     ]
    }
   ],
   "source": [
    "# To begin with the initial state, reset() method is used\n",
    "state = env.reset()\n",
    "print(state)"
   ]
  },
  {
   "cell_type": "code",
   "execution_count": 5,
   "metadata": {},
   "outputs": [
    {
     "name": "stdout",
     "output_type": "stream",
     "text": [
      "[ 0.0235037   0.23800232  0.01296618 -0.30857589]\n",
      "1.0\n",
      "False\n"
     ]
    }
   ],
   "source": [
    "# To interact with the environment by taking an action, step() method is used.\n",
    "# It executes that action in environment and returns the new state and the reward.\n",
    "new_state, reward, done, _ = env.step(env.action_space.sample()) # select a random action\n",
    "print(new_state)\n",
    "print(reward)\n",
    "print(done)"
   ]
  },
  {
   "cell_type": "markdown",
   "metadata": {},
   "source": [
    "## Policy Network"
   ]
  },
  {
   "cell_type": "code",
   "execution_count": 6,
   "metadata": {},
   "outputs": [],
   "source": [
    "class PolicyNet(nn.Module):\n",
    "    \n",
    "    def __init__(self, obs_dim, act_dim, hidden_size = 64):\n",
    "        '''\n",
    "        Initializing a 2 layer neural net\n",
    "        '''\n",
    "        super(PolicyNet, self).__init__()\n",
    "        self.policy = nn.Sequential(\n",
    "                        nn.Linear(obs_dim, hidden_size),\n",
    "                        nn.ReLU(),\n",
    "                        nn.Linear(hidden_size, act_dim),\n",
    "                        nn.Softmax(dim = -1)\n",
    "                    )\n",
    "        \n",
    "    def forward(self, x):\n",
    "        '''\n",
    "        Input:\n",
    "            -x : A tensor of shape [batch_size, obs_dim] representing the state\n",
    "        \n",
    "        Returns a tensor of shape [batch_size, act_dim] representing the probability of taking each action\n",
    "        '''\n",
    "        return self.policy(x)"
   ]
  },
  {
   "cell_type": "code",
   "execution_count": 16,
   "metadata": {},
   "outputs": [],
   "source": [
    "env = gym.make('CartPole-v0')"
   ]
  },
  {
   "cell_type": "code",
   "execution_count": 17,
   "metadata": {},
   "outputs": [],
   "source": [
    "obs_dim = env.observation_space.shape[0]\n",
    "act_dim = env.action_space.n"
   ]
  },
  {
   "cell_type": "code",
   "execution_count": 18,
   "metadata": {},
   "outputs": [],
   "source": [
    "net = PolicyNet(obs_dim, act_dim)"
   ]
  },
  {
   "cell_type": "code",
   "execution_count": 19,
   "metadata": {},
   "outputs": [
    {
     "name": "stdout",
     "output_type": "stream",
     "text": [
      "PolicyNet(\n",
      "  (policy): Sequential(\n",
      "    (0): Linear(in_features=4, out_features=64, bias=True)\n",
      "    (1): ReLU()\n",
      "    (2): Linear(in_features=64, out_features=2, bias=True)\n",
      "    (3): Softmax()\n",
      "  )\n",
      ")\n"
     ]
    }
   ],
   "source": [
    "print(net)"
   ]
  },
  {
   "cell_type": "code",
   "execution_count": 12,
   "metadata": {},
   "outputs": [],
   "source": [
    "opti = optim.Adam(net.parameters(), lr = 0.01)"
   ]
  },
  {
   "cell_type": "markdown",
   "metadata": {},
   "source": [
    "## Training RL algent using REINFORCE"
   ]
  },
  {
   "cell_type": "code",
   "execution_count": 13,
   "metadata": {},
   "outputs": [],
   "source": [
    "def find_q_vals(rewards, gamma):\n",
    "    \n",
    "    '''\n",
    "    This function computes the returns from the rewards observed in an episode.\n",
    "    \n",
    "    Inputs:\n",
    "        - rewards : List of rewards encountered in an episode [len_episode]\n",
    "        - gamma : Discount factor\n",
    "    \n",
    "    Returns an numpy array containing returns at each time step in an episode\n",
    "    '''\n",
    "    \n",
    "    q_vals = np.zeros(len(rewards))\n",
    "    q_vals[-1] = rewards[-1]\n",
    "    \n",
    "    for i in reversed(range(len(rewards)-1)):\n",
    "        q_vals[i] = rewards[i] + gamma*q_vals[i+1]\n",
    "        \n",
    "    return q_vals"
   ]
  },
  {
   "cell_type": "code",
   "execution_count": 14,
   "metadata": {},
   "outputs": [],
   "source": [
    "def REINFORCE(env, net, opti, num_trajs = 4, num_runs = 200, gamma = 0.99, print_every = 1):\n",
    "    '''\n",
    "    Trains the RL agent using REINFORCE algorithm.\n",
    "    \n",
    "    Inputs:\n",
    "        - env : Environment Instance\n",
    "        - net : Policy network\n",
    "        - opti : Optimizer to train the network\n",
    "        - num_trajs : Number of trajectories to collect before making and update to the policy\n",
    "        - num_runs : Total number of gradient updates\n",
    "        - gamma : Discount factor\n",
    "        - print_every : Iterations after which reward stats are to be printed\n",
    "        \n",
    "    Returns a list containing the mean returns \n",
    "    '''\n",
    "    running_return = 0\n",
    "    running_returns = []\n",
    "    ep = 0\n",
    "    \n",
    "    for _ in range(num_runs):\n",
    "        surr_loss = 0\n",
    "        opti.zero_grad()\n",
    "        \n",
    "        for _ in range(num_trajs):\n",
    "            rewards, logps = [], []\n",
    "            state = env.reset()\n",
    "            \n",
    "            while True:\n",
    "                state_v = torch.FloatTensor(state).unsqueeze(0)\n",
    "                p_v = net(state_v)\n",
    "                p = p_v.detach().numpy().squeeze()\n",
    "                action = np.random.choice(np.arange(act_dim), p = p)\n",
    "                state, reward, done, _ = env.step(action)\n",
    "                \n",
    "                rewards.append(reward)\n",
    "                logps.append(torch.log(p_v)[:1, action])\n",
    "                if done:\n",
    "                    break\n",
    "                    \n",
    "            running_return = 0.1*sum(rewards) + 0.9*running_return\n",
    "            running_returns.append(running_return)\n",
    "            \n",
    "            if (ep+1)%print_every == 0:\n",
    "                print(\"Episode {} completed, total reward {}, mean return {}\".format(ep+1, sum(rewards), np.round(running_return,2)))\n",
    "            \n",
    "            q_vals = find_q_vals(rewards, gamma)\n",
    "            q_vals_v = torch.FloatTensor(q_vals)\n",
    "            logps_v = torch.cat(logps, dim = 0)\n",
    "            surr_loss += torch.sum(-logps_v*q_vals_v)\n",
    "            ep += 1\n",
    "        \n",
    "        surr_loss = surr_loss/num_trajs\n",
    "        surr_loss.backward()\n",
    "        opti.step()\n",
    "    \n",
    "    return running_returns"
   ]
  },
  {
   "cell_type": "code",
   "execution_count": 77,
   "metadata": {},
   "outputs": [
    {
     "name": "stdout",
     "output_type": "stream",
     "text": [
      "Episode 1 completed, total reward 24.0, mean return 2.4\n",
      "Episode 2 completed, total reward 18.0, mean return 3.96\n",
      "Episode 3 completed, total reward 21.0, mean return 5.66\n",
      "Episode 4 completed, total reward 39.0, mean return 9.0\n",
      "Episode 5 completed, total reward 16.0, mean return 9.7\n",
      "Episode 6 completed, total reward 17.0, mean return 10.43\n",
      "Episode 7 completed, total reward 24.0, mean return 11.79\n",
      "Episode 8 completed, total reward 31.0, mean return 13.71\n",
      "Episode 9 completed, total reward 45.0, mean return 16.84\n",
      "Episode 10 completed, total reward 28.0, mean return 17.95\n",
      "Episode 11 completed, total reward 17.0, mean return 17.86\n",
      "Episode 12 completed, total reward 18.0, mean return 17.87\n",
      "Episode 13 completed, total reward 130.0, mean return 29.08\n",
      "Episode 14 completed, total reward 45.0, mean return 30.68\n",
      "Episode 15 completed, total reward 49.0, mean return 32.51\n",
      "Episode 16 completed, total reward 100.0, mean return 39.26\n",
      "Episode 17 completed, total reward 83.0, mean return 43.63\n",
      "Episode 18 completed, total reward 31.0, mean return 42.37\n",
      "Episode 19 completed, total reward 81.0, mean return 46.23\n",
      "Episode 20 completed, total reward 24.0, mean return 44.01\n",
      "Episode 21 completed, total reward 23.0, mean return 41.91\n",
      "Episode 22 completed, total reward 46.0, mean return 42.32\n",
      "Episode 23 completed, total reward 28.0, mean return 40.89\n",
      "Episode 24 completed, total reward 31.0, mean return 39.9\n",
      "Episode 25 completed, total reward 61.0, mean return 42.01\n",
      "Episode 26 completed, total reward 82.0, mean return 46.01\n",
      "Episode 27 completed, total reward 26.0, mean return 44.01\n",
      "Episode 28 completed, total reward 24.0, mean return 42.01\n",
      "Episode 29 completed, total reward 14.0, mean return 39.2\n",
      "Episode 30 completed, total reward 34.0, mean return 38.68\n",
      "Episode 31 completed, total reward 23.0, mean return 37.12\n",
      "Episode 32 completed, total reward 32.0, mean return 36.6\n",
      "Episode 33 completed, total reward 26.0, mean return 35.54\n",
      "Episode 34 completed, total reward 14.0, mean return 33.39\n",
      "Episode 35 completed, total reward 31.0, mean return 33.15\n",
      "Episode 36 completed, total reward 35.0, mean return 33.34\n",
      "Episode 37 completed, total reward 122.0, mean return 42.2\n",
      "Episode 38 completed, total reward 17.0, mean return 39.68\n",
      "Episode 39 completed, total reward 56.0, mean return 41.31\n",
      "Episode 40 completed, total reward 24.0, mean return 39.58\n",
      "Episode 41 completed, total reward 30.0, mean return 38.62\n",
      "Episode 42 completed, total reward 41.0, mean return 38.86\n",
      "Episode 43 completed, total reward 40.0, mean return 38.98\n",
      "Episode 44 completed, total reward 24.0, mean return 37.48\n",
      "Episode 45 completed, total reward 33.0, mean return 37.03\n",
      "Episode 46 completed, total reward 32.0, mean return 36.53\n",
      "Episode 47 completed, total reward 17.0, mean return 34.57\n",
      "Episode 48 completed, total reward 21.0, mean return 33.22\n",
      "Episode 49 completed, total reward 47.0, mean return 34.6\n",
      "Episode 50 completed, total reward 124.0, mean return 43.54\n",
      "Episode 51 completed, total reward 62.0, mean return 45.38\n",
      "Episode 52 completed, total reward 52.0, mean return 46.04\n",
      "Episode 53 completed, total reward 50.0, mean return 46.44\n",
      "Episode 54 completed, total reward 36.0, mean return 45.4\n",
      "Episode 55 completed, total reward 24.0, mean return 43.26\n",
      "Episode 56 completed, total reward 44.0, mean return 43.33\n",
      "Episode 57 completed, total reward 66.0, mean return 45.6\n",
      "Episode 58 completed, total reward 43.0, mean return 45.34\n",
      "Episode 59 completed, total reward 65.0, mean return 47.3\n",
      "Episode 60 completed, total reward 30.0, mean return 45.57\n",
      "Episode 61 completed, total reward 77.0, mean return 48.72\n",
      "Episode 62 completed, total reward 31.0, mean return 46.94\n",
      "Episode 63 completed, total reward 121.0, mean return 54.35\n",
      "Episode 64 completed, total reward 61.0, mean return 55.02\n",
      "Episode 65 completed, total reward 29.0, mean return 52.41\n",
      "Episode 66 completed, total reward 46.0, mean return 51.77\n",
      "Episode 67 completed, total reward 26.0, mean return 49.19\n",
      "Episode 68 completed, total reward 48.0, mean return 49.08\n",
      "Episode 69 completed, total reward 98.0, mean return 53.97\n",
      "Episode 70 completed, total reward 42.0, mean return 52.77\n",
      "Episode 71 completed, total reward 53.0, mean return 52.79\n",
      "Episode 72 completed, total reward 55.0, mean return 53.01\n",
      "Episode 73 completed, total reward 128.0, mean return 60.51\n",
      "Episode 74 completed, total reward 59.0, mean return 60.36\n",
      "Episode 75 completed, total reward 28.0, mean return 57.13\n",
      "Episode 76 completed, total reward 42.0, mean return 55.61\n",
      "Episode 77 completed, total reward 78.0, mean return 57.85\n",
      "Episode 78 completed, total reward 76.0, mean return 59.67\n",
      "Episode 79 completed, total reward 63.0, mean return 60.0\n",
      "Episode 80 completed, total reward 17.0, mean return 55.7\n",
      "Episode 81 completed, total reward 93.0, mean return 59.43\n",
      "Episode 82 completed, total reward 42.0, mean return 57.69\n",
      "Episode 83 completed, total reward 80.0, mean return 59.92\n",
      "Episode 84 completed, total reward 44.0, mean return 58.33\n",
      "Episode 85 completed, total reward 70.0, mean return 59.49\n",
      "Episode 86 completed, total reward 82.0, mean return 61.74\n",
      "Episode 87 completed, total reward 130.0, mean return 68.57\n",
      "Episode 88 completed, total reward 145.0, mean return 76.21\n",
      "Episode 89 completed, total reward 58.0, mean return 74.39\n",
      "Episode 90 completed, total reward 34.0, mean return 70.35\n",
      "Episode 91 completed, total reward 28.0, mean return 66.12\n",
      "Episode 92 completed, total reward 57.0, mean return 65.21\n",
      "Episode 93 completed, total reward 93.0, mean return 67.98\n",
      "Episode 94 completed, total reward 76.0, mean return 68.79\n",
      "Episode 95 completed, total reward 50.0, mean return 66.91\n",
      "Episode 96 completed, total reward 200.0, mean return 80.22\n",
      "Episode 97 completed, total reward 47.0, mean return 76.9\n",
      "Episode 98 completed, total reward 52.0, mean return 74.41\n",
      "Episode 99 completed, total reward 97.0, mean return 76.67\n",
      "Episode 100 completed, total reward 53.0, mean return 74.3\n",
      "Episode 101 completed, total reward 117.0, mean return 78.57\n",
      "Episode 102 completed, total reward 48.0, mean return 75.51\n",
      "Episode 103 completed, total reward 71.0, mean return 75.06\n",
      "Episode 104 completed, total reward 51.0, mean return 72.65\n",
      "Episode 105 completed, total reward 80.0, mean return 73.39\n",
      "Episode 106 completed, total reward 99.0, mean return 75.95\n",
      "Episode 107 completed, total reward 59.0, mean return 74.26\n",
      "Episode 108 completed, total reward 98.0, mean return 76.63\n",
      "Episode 109 completed, total reward 70.0, mean return 75.97\n",
      "Episode 110 completed, total reward 125.0, mean return 80.87\n",
      "Episode 111 completed, total reward 40.0, mean return 76.78\n",
      "Episode 112 completed, total reward 73.0, mean return 76.4\n",
      "Episode 113 completed, total reward 169.0, mean return 85.66\n",
      "Episode 114 completed, total reward 84.0, mean return 85.5\n",
      "Episode 115 completed, total reward 45.0, mean return 81.45\n",
      "Episode 116 completed, total reward 63.0, mean return 79.6\n",
      "Episode 117 completed, total reward 73.0, mean return 78.94\n",
      "Episode 118 completed, total reward 90.0, mean return 80.05\n",
      "Episode 119 completed, total reward 194.0, mean return 91.44\n",
      "Episode 120 completed, total reward 107.0, mean return 93.0\n",
      "Episode 121 completed, total reward 117.0, mean return 95.4\n",
      "Episode 122 completed, total reward 173.0, mean return 103.16\n",
      "Episode 123 completed, total reward 148.0, mean return 107.64\n",
      "Episode 124 completed, total reward 165.0, mean return 113.38\n",
      "Episode 125 completed, total reward 129.0, mean return 114.94\n",
      "Episode 126 completed, total reward 56.0, mean return 109.05\n",
      "Episode 127 completed, total reward 107.0, mean return 108.84\n",
      "Episode 128 completed, total reward 50.0, mean return 102.96\n",
      "Episode 129 completed, total reward 109.0, mean return 103.56\n",
      "Episode 130 completed, total reward 127.0, mean return 105.91\n",
      "Episode 131 completed, total reward 78.0, mean return 103.12\n",
      "Episode 132 completed, total reward 175.0, mean return 110.3\n",
      "Episode 133 completed, total reward 83.0, mean return 107.57\n",
      "Episode 134 completed, total reward 200.0, mean return 116.82\n",
      "Episode 135 completed, total reward 170.0, mean return 122.13\n",
      "Episode 136 completed, total reward 182.0, mean return 128.12\n",
      "Episode 137 completed, total reward 200.0, mean return 135.31\n",
      "Episode 138 completed, total reward 150.0, mean return 136.78\n",
      "Episode 139 completed, total reward 200.0, mean return 143.1\n",
      "Episode 140 completed, total reward 151.0, mean return 143.89\n",
      "Episode 141 completed, total reward 200.0, mean return 149.5\n",
      "Episode 142 completed, total reward 170.0, mean return 151.55\n",
      "Episode 143 completed, total reward 179.0, mean return 154.3\n"
     ]
    },
    {
     "name": "stdout",
     "output_type": "stream",
     "text": [
      "Episode 144 completed, total reward 191.0, mean return 157.97\n",
      "Episode 145 completed, total reward 194.0, mean return 161.57\n",
      "Episode 146 completed, total reward 200.0, mean return 165.41\n",
      "Episode 147 completed, total reward 107.0, mean return 159.57\n",
      "Episode 148 completed, total reward 200.0, mean return 163.61\n",
      "Episode 149 completed, total reward 200.0, mean return 167.25\n",
      "Episode 150 completed, total reward 200.0, mean return 170.53\n",
      "Episode 151 completed, total reward 134.0, mean return 166.87\n",
      "Episode 152 completed, total reward 200.0, mean return 170.19\n",
      "Episode 153 completed, total reward 200.0, mean return 173.17\n",
      "Episode 154 completed, total reward 200.0, mean return 175.85\n",
      "Episode 155 completed, total reward 153.0, mean return 173.57\n",
      "Episode 156 completed, total reward 200.0, mean return 176.21\n",
      "Episode 157 completed, total reward 181.0, mean return 176.69\n",
      "Episode 158 completed, total reward 200.0, mean return 179.02\n",
      "Episode 159 completed, total reward 200.0, mean return 181.12\n",
      "Episode 160 completed, total reward 146.0, mean return 177.61\n",
      "Episode 161 completed, total reward 126.0, mean return 172.45\n",
      "Episode 162 completed, total reward 177.0, mean return 172.9\n",
      "Episode 163 completed, total reward 200.0, mean return 175.61\n",
      "Episode 164 completed, total reward 200.0, mean return 178.05\n",
      "Episode 165 completed, total reward 199.0, mean return 180.14\n",
      "Episode 166 completed, total reward 179.0, mean return 180.03\n",
      "Episode 167 completed, total reward 177.0, mean return 179.73\n",
      "Episode 168 completed, total reward 155.0, mean return 177.25\n",
      "Episode 169 completed, total reward 200.0, mean return 179.53\n",
      "Episode 170 completed, total reward 200.0, mean return 181.58\n",
      "Episode 171 completed, total reward 200.0, mean return 183.42\n",
      "Episode 172 completed, total reward 200.0, mean return 185.08\n",
      "Episode 173 completed, total reward 200.0, mean return 186.57\n",
      "Episode 174 completed, total reward 181.0, mean return 186.01\n",
      "Episode 175 completed, total reward 163.0, mean return 183.71\n",
      "Episode 176 completed, total reward 200.0, mean return 185.34\n",
      "Episode 177 completed, total reward 200.0, mean return 186.81\n",
      "Episode 178 completed, total reward 200.0, mean return 188.13\n",
      "Episode 179 completed, total reward 200.0, mean return 189.31\n",
      "Episode 180 completed, total reward 200.0, mean return 190.38\n",
      "Episode 181 completed, total reward 200.0, mean return 191.34\n",
      "Episode 182 completed, total reward 60.0, mean return 178.21\n",
      "Episode 183 completed, total reward 191.0, mean return 179.49\n",
      "Episode 184 completed, total reward 128.0, mean return 174.34\n",
      "Episode 185 completed, total reward 137.0, mean return 170.61\n",
      "Episode 186 completed, total reward 195.0, mean return 173.04\n",
      "Episode 187 completed, total reward 143.0, mean return 170.04\n",
      "Episode 188 completed, total reward 200.0, mean return 173.04\n",
      "Episode 189 completed, total reward 126.0, mean return 168.33\n",
      "Episode 190 completed, total reward 129.0, mean return 164.4\n",
      "Episode 191 completed, total reward 180.0, mean return 165.96\n",
      "Episode 192 completed, total reward 153.0, mean return 164.66\n",
      "Episode 193 completed, total reward 170.0, mean return 165.2\n",
      "Episode 194 completed, total reward 175.0, mean return 166.18\n",
      "Episode 195 completed, total reward 166.0, mean return 166.16\n",
      "Episode 196 completed, total reward 102.0, mean return 159.74\n",
      "Episode 197 completed, total reward 158.0, mean return 159.57\n",
      "Episode 198 completed, total reward 115.0, mean return 155.11\n",
      "Episode 199 completed, total reward 152.0, mean return 154.8\n",
      "Episode 200 completed, total reward 118.0, mean return 151.12\n",
      "Episode 201 completed, total reward 134.0, mean return 149.41\n",
      "Episode 202 completed, total reward 149.0, mean return 149.37\n",
      "Episode 203 completed, total reward 133.0, mean return 147.73\n",
      "Episode 204 completed, total reward 153.0, mean return 148.26\n",
      "Episode 205 completed, total reward 177.0, mean return 151.13\n",
      "Episode 206 completed, total reward 126.0, mean return 148.62\n",
      "Episode 207 completed, total reward 44.0, mean return 138.16\n",
      "Episode 208 completed, total reward 57.0, mean return 130.04\n",
      "Episode 209 completed, total reward 171.0, mean return 134.14\n",
      "Episode 210 completed, total reward 200.0, mean return 140.72\n",
      "Episode 211 completed, total reward 200.0, mean return 146.65\n",
      "Episode 212 completed, total reward 200.0, mean return 151.99\n",
      "Episode 213 completed, total reward 200.0, mean return 156.79\n",
      "Episode 214 completed, total reward 200.0, mean return 161.11\n",
      "Episode 215 completed, total reward 185.0, mean return 163.5\n",
      "Episode 216 completed, total reward 200.0, mean return 167.15\n",
      "Episode 217 completed, total reward 200.0, mean return 170.43\n",
      "Episode 218 completed, total reward 65.0, mean return 159.89\n",
      "Episode 219 completed, total reward 77.0, mean return 151.6\n",
      "Episode 220 completed, total reward 200.0, mean return 156.44\n",
      "Episode 221 completed, total reward 75.0, mean return 148.3\n",
      "Episode 222 completed, total reward 200.0, mean return 153.47\n",
      "Episode 223 completed, total reward 200.0, mean return 158.12\n",
      "Episode 224 completed, total reward 68.0, mean return 149.11\n",
      "Episode 225 completed, total reward 76.0, mean return 141.8\n",
      "Episode 226 completed, total reward 200.0, mean return 147.62\n",
      "Episode 227 completed, total reward 200.0, mean return 152.86\n",
      "Episode 228 completed, total reward 200.0, mean return 157.57\n",
      "Episode 229 completed, total reward 200.0, mean return 161.81\n",
      "Episode 230 completed, total reward 200.0, mean return 165.63\n",
      "Episode 231 completed, total reward 200.0, mean return 169.07\n",
      "Episode 232 completed, total reward 200.0, mean return 172.16\n",
      "Episode 233 completed, total reward 200.0, mean return 174.95\n",
      "Episode 234 completed, total reward 200.0, mean return 177.45\n",
      "Episode 235 completed, total reward 86.0, mean return 168.31\n",
      "Episode 236 completed, total reward 200.0, mean return 171.48\n",
      "Episode 237 completed, total reward 115.0, mean return 165.83\n",
      "Episode 238 completed, total reward 112.0, mean return 160.45\n",
      "Episode 239 completed, total reward 96.0, mean return 154.0\n",
      "Episode 240 completed, total reward 171.0, mean return 155.7\n",
      "Episode 241 completed, total reward 200.0, mean return 160.13\n",
      "Episode 242 completed, total reward 200.0, mean return 164.12\n",
      "Episode 243 completed, total reward 120.0, mean return 159.71\n",
      "Episode 244 completed, total reward 197.0, mean return 163.44\n",
      "Episode 245 completed, total reward 200.0, mean return 167.09\n",
      "Episode 246 completed, total reward 70.0, mean return 157.38\n",
      "Episode 247 completed, total reward 200.0, mean return 161.64\n",
      "Episode 248 completed, total reward 49.0, mean return 150.38\n",
      "Episode 249 completed, total reward 200.0, mean return 155.34\n",
      "Episode 250 completed, total reward 94.0, mean return 149.21\n",
      "Episode 251 completed, total reward 200.0, mean return 154.29\n",
      "Episode 252 completed, total reward 99.0, mean return 148.76\n",
      "Episode 253 completed, total reward 111.0, mean return 144.98\n",
      "Episode 254 completed, total reward 200.0, mean return 150.48\n",
      "Episode 255 completed, total reward 147.0, mean return 150.14\n",
      "Episode 256 completed, total reward 129.0, mean return 148.02\n",
      "Episode 257 completed, total reward 103.0, mean return 143.52\n",
      "Episode 258 completed, total reward 200.0, mean return 149.17\n",
      "Episode 259 completed, total reward 83.0, mean return 142.55\n",
      "Episode 260 completed, total reward 200.0, mean return 148.3\n",
      "Episode 261 completed, total reward 200.0, mean return 153.47\n",
      "Episode 262 completed, total reward 200.0, mean return 158.12\n",
      "Episode 263 completed, total reward 200.0, mean return 162.31\n",
      "Episode 264 completed, total reward 200.0, mean return 166.08\n",
      "Episode 265 completed, total reward 63.0, mean return 155.77\n",
      "Episode 266 completed, total reward 200.0, mean return 160.19\n",
      "Episode 267 completed, total reward 200.0, mean return 164.17\n",
      "Episode 268 completed, total reward 107.0, mean return 158.46\n",
      "Episode 269 completed, total reward 200.0, mean return 162.61\n",
      "Episode 270 completed, total reward 200.0, mean return 166.35\n",
      "Episode 271 completed, total reward 172.0, mean return 166.91\n",
      "Episode 272 completed, total reward 200.0, mean return 170.22\n",
      "Episode 273 completed, total reward 123.0, mean return 165.5\n",
      "Episode 274 completed, total reward 200.0, mean return 168.95\n",
      "Episode 275 completed, total reward 200.0, mean return 172.06\n",
      "Episode 276 completed, total reward 200.0, mean return 174.85\n",
      "Episode 277 completed, total reward 200.0, mean return 177.36\n",
      "Episode 278 completed, total reward 200.0, mean return 179.63\n",
      "Episode 279 completed, total reward 200.0, mean return 181.67\n"
     ]
    },
    {
     "name": "stdout",
     "output_type": "stream",
     "text": [
      "Episode 280 completed, total reward 200.0, mean return 183.5\n",
      "Episode 281 completed, total reward 200.0, mean return 185.15\n",
      "Episode 282 completed, total reward 200.0, mean return 186.63\n",
      "Episode 283 completed, total reward 111.0, mean return 179.07\n",
      "Episode 284 completed, total reward 200.0, mean return 181.16\n",
      "Episode 285 completed, total reward 200.0, mean return 183.05\n",
      "Episode 286 completed, total reward 90.0, mean return 173.74\n",
      "Episode 287 completed, total reward 58.0, mean return 162.17\n",
      "Episode 288 completed, total reward 200.0, mean return 165.95\n",
      "Episode 289 completed, total reward 200.0, mean return 169.36\n",
      "Episode 290 completed, total reward 145.0, mean return 166.92\n",
      "Episode 291 completed, total reward 165.0, mean return 166.73\n",
      "Episode 292 completed, total reward 200.0, mean return 170.06\n",
      "Episode 293 completed, total reward 200.0, mean return 173.05\n",
      "Episode 294 completed, total reward 200.0, mean return 175.75\n",
      "Episode 295 completed, total reward 200.0, mean return 178.17\n",
      "Episode 296 completed, total reward 106.0, mean return 170.95\n",
      "Episode 297 completed, total reward 200.0, mean return 173.86\n",
      "Episode 298 completed, total reward 200.0, mean return 176.47\n",
      "Episode 299 completed, total reward 200.0, mean return 178.83\n",
      "Episode 300 completed, total reward 200.0, mean return 180.94\n",
      "Episode 301 completed, total reward 200.0, mean return 182.85\n",
      "Episode 302 completed, total reward 200.0, mean return 184.56\n",
      "Episode 303 completed, total reward 200.0, mean return 186.11\n",
      "Episode 304 completed, total reward 172.0, mean return 184.7\n",
      "Episode 305 completed, total reward 200.0, mean return 186.23\n",
      "Episode 306 completed, total reward 200.0, mean return 187.6\n",
      "Episode 307 completed, total reward 200.0, mean return 188.84\n",
      "Episode 308 completed, total reward 200.0, mean return 189.96\n",
      "Episode 309 completed, total reward 200.0, mean return 190.96\n",
      "Episode 310 completed, total reward 200.0, mean return 191.87\n",
      "Episode 311 completed, total reward 200.0, mean return 192.68\n",
      "Episode 312 completed, total reward 200.0, mean return 193.41\n",
      "Episode 313 completed, total reward 200.0, mean return 194.07\n",
      "Episode 314 completed, total reward 200.0, mean return 194.66\n",
      "Episode 315 completed, total reward 200.0, mean return 195.2\n",
      "Episode 316 completed, total reward 200.0, mean return 195.68\n",
      "Episode 317 completed, total reward 24.0, mean return 178.51\n",
      "Episode 318 completed, total reward 199.0, mean return 180.56\n",
      "Episode 319 completed, total reward 200.0, mean return 182.5\n",
      "Episode 320 completed, total reward 200.0, mean return 184.25\n",
      "Episode 321 completed, total reward 200.0, mean return 185.83\n",
      "Episode 322 completed, total reward 199.0, mean return 187.14\n",
      "Episode 323 completed, total reward 200.0, mean return 188.43\n",
      "Episode 324 completed, total reward 200.0, mean return 189.59\n",
      "Episode 325 completed, total reward 199.0, mean return 190.53\n",
      "Episode 326 completed, total reward 200.0, mean return 191.48\n",
      "Episode 327 completed, total reward 200.0, mean return 192.33\n",
      "Episode 328 completed, total reward 200.0, mean return 193.1\n",
      "Episode 329 completed, total reward 200.0, mean return 193.79\n",
      "Episode 330 completed, total reward 200.0, mean return 194.41\n",
      "Episode 331 completed, total reward 175.0, mean return 192.47\n",
      "Episode 332 completed, total reward 200.0, mean return 193.22\n",
      "Episode 333 completed, total reward 200.0, mean return 193.9\n",
      "Episode 334 completed, total reward 200.0, mean return 194.51\n",
      "Episode 335 completed, total reward 200.0, mean return 195.06\n",
      "Episode 336 completed, total reward 200.0, mean return 195.55\n",
      "Episode 337 completed, total reward 200.0, mean return 196.0\n",
      "Episode 338 completed, total reward 200.0, mean return 196.4\n",
      "Episode 339 completed, total reward 200.0, mean return 196.76\n",
      "Episode 340 completed, total reward 200.0, mean return 197.08\n",
      "Episode 341 completed, total reward 200.0, mean return 197.37\n",
      "Episode 342 completed, total reward 200.0, mean return 197.64\n",
      "Episode 343 completed, total reward 200.0, mean return 197.87\n",
      "Episode 344 completed, total reward 200.0, mean return 198.09\n",
      "Episode 345 completed, total reward 200.0, mean return 198.28\n",
      "Episode 346 completed, total reward 200.0, mean return 198.45\n",
      "Episode 347 completed, total reward 200.0, mean return 198.6\n",
      "Episode 348 completed, total reward 200.0, mean return 198.74\n",
      "Episode 349 completed, total reward 200.0, mean return 198.87\n",
      "Episode 350 completed, total reward 200.0, mean return 198.98\n",
      "Episode 351 completed, total reward 200.0, mean return 199.08\n",
      "Episode 352 completed, total reward 200.0, mean return 199.18\n",
      "Episode 353 completed, total reward 200.0, mean return 199.26\n",
      "Episode 354 completed, total reward 200.0, mean return 199.33\n",
      "Episode 355 completed, total reward 200.0, mean return 199.4\n",
      "Episode 356 completed, total reward 200.0, mean return 199.46\n",
      "Episode 357 completed, total reward 200.0, mean return 199.51\n",
      "Episode 358 completed, total reward 200.0, mean return 199.56\n",
      "Episode 359 completed, total reward 200.0, mean return 199.61\n",
      "Episode 360 completed, total reward 200.0, mean return 199.65\n",
      "Episode 361 completed, total reward 200.0, mean return 199.68\n",
      "Episode 362 completed, total reward 200.0, mean return 199.71\n",
      "Episode 363 completed, total reward 200.0, mean return 199.74\n",
      "Episode 364 completed, total reward 200.0, mean return 199.77\n",
      "Episode 365 completed, total reward 200.0, mean return 199.79\n",
      "Episode 366 completed, total reward 200.0, mean return 199.81\n",
      "Episode 367 completed, total reward 200.0, mean return 199.83\n",
      "Episode 368 completed, total reward 200.0, mean return 199.85\n",
      "Episode 369 completed, total reward 200.0, mean return 199.86\n",
      "Episode 370 completed, total reward 200.0, mean return 199.88\n",
      "Episode 371 completed, total reward 200.0, mean return 199.89\n",
      "Episode 372 completed, total reward 200.0, mean return 199.9\n",
      "Episode 373 completed, total reward 200.0, mean return 199.91\n",
      "Episode 374 completed, total reward 200.0, mean return 199.92\n",
      "Episode 375 completed, total reward 200.0, mean return 199.93\n",
      "Episode 376 completed, total reward 200.0, mean return 199.93\n",
      "Episode 377 completed, total reward 200.0, mean return 199.94\n",
      "Episode 378 completed, total reward 200.0, mean return 199.95\n",
      "Episode 379 completed, total reward 200.0, mean return 199.95\n",
      "Episode 380 completed, total reward 200.0, mean return 199.96\n",
      "Episode 381 completed, total reward 200.0, mean return 199.96\n",
      "Episode 382 completed, total reward 200.0, mean return 199.97\n",
      "Episode 383 completed, total reward 200.0, mean return 199.97\n",
      "Episode 384 completed, total reward 200.0, mean return 199.97\n",
      "Episode 385 completed, total reward 200.0, mean return 199.97\n",
      "Episode 386 completed, total reward 200.0, mean return 199.98\n",
      "Episode 387 completed, total reward 200.0, mean return 199.98\n",
      "Episode 388 completed, total reward 200.0, mean return 199.98\n",
      "Episode 389 completed, total reward 200.0, mean return 199.98\n",
      "Episode 390 completed, total reward 200.0, mean return 199.98\n",
      "Episode 391 completed, total reward 200.0, mean return 199.99\n",
      "Episode 392 completed, total reward 69.0, mean return 186.89\n",
      "Episode 393 completed, total reward 200.0, mean return 188.2\n",
      "Episode 394 completed, total reward 200.0, mean return 189.38\n",
      "Episode 395 completed, total reward 200.0, mean return 190.44\n",
      "Episode 396 completed, total reward 200.0, mean return 191.4\n",
      "Episode 397 completed, total reward 200.0, mean return 192.26\n",
      "Episode 398 completed, total reward 200.0, mean return 193.03\n",
      "Episode 399 completed, total reward 123.0, mean return 186.03\n",
      "Episode 400 completed, total reward 200.0, mean return 187.43\n"
     ]
    }
   ],
   "source": [
    "returns = REINFORCE(env, net, opti, num_runs= 100)"
   ]
  },
  {
   "cell_type": "code",
   "execution_count": 78,
   "metadata": {
    "scrolled": true
   },
   "outputs": [
    {
     "data": {
      "text/plain": [
       "Text(0,0.5,'Mean reward')"
      ]
     },
     "execution_count": 78,
     "metadata": {},
     "output_type": "execute_result"
    },
    {
     "data": {
      "image/png": "[encoded data removed]",
      "text/plain": [
       "<Figure size 432x288 with 1 Axes>"
      ]
     },
     "metadata": {},
     "output_type": "display_data"
    }
   ],
   "source": [
    "plt.plot(returns)\n",
    "plt.xlabel(\"Episodes\")\n",
    "plt.ylabel(\"Mean reward\")"
   ]
  },
  {
   "cell_type": "code",
   "execution_count": 21,
   "metadata": {},
   "outputs": [],
   "source": [
    "net.load_state_dict(torch.load('Policies/CartPole.dat'))"
   ]
  },
  {
   "cell_type": "markdown",
   "metadata": {},
   "source": [
    "## Testing the agent"
   ]
  },
  {
   "cell_type": "code",
   "execution_count": 22,
   "metadata": {},
   "outputs": [],
   "source": [
    "for i in range(1):\n",
    "    state = env.reset()\n",
    "    while True:\n",
    "        env.render()\n",
    "        time.sleep(.03)\n",
    "        state_v = torch.FloatTensor(state).unsqueeze(0)\n",
    "        p_v = net(state_v)\n",
    "        p = p_v.detach().numpy().squeeze()\n",
    "        action = np.argmax(p)\n",
    "        state, reward, done, _ = env.step(action)\n",
    "        if done:\n",
    "            break"
   ]
  },
  {
   "cell_type": "markdown",
   "metadata": {},
   "source": [
    "## Training the agent for Lunar Lander environment"
   ]
  },
  {
   "cell_type": "code",
   "execution_count": 7,
   "metadata": {},
   "outputs": [],
   "source": [
    "env = gym.make('LunarLander-v2')"
   ]
  },
  {
   "cell_type": "code",
   "execution_count": 8,
   "metadata": {},
   "outputs": [],
   "source": [
    "obs_dim = env.observation_space.shape[0]\n",
    "act_dim = env.action_space.n"
   ]
  },
  {
   "cell_type": "code",
   "execution_count": 9,
   "metadata": {},
   "outputs": [
    {
     "name": "stdout",
     "output_type": "stream",
     "text": [
      "8\n",
      "4\n"
     ]
    }
   ],
   "source": [
    "print(obs_dim)\n",
    "print(act_dim)"
   ]
  },
  {
   "cell_type": "code",
   "execution_count": 10,
   "metadata": {},
   "outputs": [],
   "source": [
    "net = PolicyNet(obs_dim, act_dim, hidden_size=64)"
   ]
  },
  {
   "cell_type": "code",
   "execution_count": 23,
   "metadata": {},
   "outputs": [],
   "source": [
    "opti = optim.Adam(net.parameters(), lr = 0.01)"
   ]
  },
  {
   "cell_type": "code",
   "execution_count": 13,
   "metadata": {},
   "outputs": [
    {
     "name": "stdout",
     "output_type": "stream",
     "text": [
      "Episode 100 completed, total reward -115.2873395088834, mean return -176.49\n",
      "Episode 200 completed, total reward -143.51729322628285, mean return -209.34\n",
      "Episode 300 completed, total reward -186.1037070225421, mean return -154.94\n",
      "Episode 400 completed, total reward -55.71623368175675, mean return -217.03\n",
      "Episode 500 completed, total reward -81.74267018284806, mean return -138.33\n",
      "Episode 600 completed, total reward -341.4488833350025, mean return -226.85\n",
      "Episode 700 completed, total reward -85.99272357562822, mean return -145.43\n",
      "Episode 800 completed, total reward -109.15649114465546, mean return -136.48\n",
      "Episode 900 completed, total reward -97.89186805725656, mean return -120.4\n",
      "Episode 1000 completed, total reward -32.95751069731415, mean return -120.97\n",
      "Episode 1100 completed, total reward -126.76555766516344, mean return -149.91\n",
      "Episode 1200 completed, total reward -116.95225298757015, mean return -133.81\n",
      "Episode 1300 completed, total reward -106.79301240513888, mean return -110.46\n",
      "Episode 1400 completed, total reward -124.61612351761893, mean return -126.04\n",
      "Episode 1500 completed, total reward -104.59560676636717, mean return -140.07\n",
      "Episode 1600 completed, total reward -68.87065812477238, mean return -106.21\n",
      "Episode 1700 completed, total reward -69.97892006693618, mean return -110.22\n",
      "Episode 1800 completed, total reward -97.97368501795363, mean return -128.98\n",
      "Episode 1900 completed, total reward -125.07628339337202, mean return -130.8\n",
      "Episode 2000 completed, total reward -66.40249181607717, mean return -87.05\n",
      "Episode 2100 completed, total reward -335.7092227204922, mean return -100.45\n",
      "Episode 2200 completed, total reward -238.53086064930733, mean return -142.22\n",
      "Episode 2300 completed, total reward -140.33236179770745, mean return -101.18\n",
      "Episode 2400 completed, total reward -60.493417960462864, mean return -92.63\n",
      "Episode 2500 completed, total reward -55.6935433828845, mean return -85.32\n",
      "Episode 2600 completed, total reward -153.56896298579323, mean return -79.0\n",
      "Episode 2700 completed, total reward -43.221450900809245, mean return -86.35\n",
      "Episode 2800 completed, total reward -181.7016803914495, mean return -121.03\n",
      "Episode 2900 completed, total reward -142.9105573013169, mean return -127.37\n",
      "Episode 3000 completed, total reward -96.92296504931328, mean return -77.06\n",
      "Episode 3100 completed, total reward 39.56312308702553, mean return -51.39\n",
      "Episode 3200 completed, total reward -24.663270271409942, mean return -65.81\n",
      "Episode 3300 completed, total reward -13.76578136084872, mean return -59.75\n",
      "Episode 3400 completed, total reward 12.118651789757422, mean return -28.26\n",
      "Episode 3500 completed, total reward -129.74417628472793, mean return -64.61\n",
      "Episode 3600 completed, total reward -11.10830347962252, mean return -43.27\n",
      "Episode 3700 completed, total reward 1.11108582544378, mean return -29.65\n",
      "Episode 3800 completed, total reward -21.658716627817384, mean return -29.1\n",
      "Episode 3900 completed, total reward -245.55231067101622, mean return -57.33\n",
      "Episode 4000 completed, total reward -153.27656061127954, mean return -75.55\n",
      "Episode 4100 completed, total reward 19.35697825976152, mean return -71.53\n",
      "Episode 4200 completed, total reward -254.82863416150718, mean return -93.08\n",
      "Episode 4300 completed, total reward 14.730893517915788, mean return -45.79\n",
      "Episode 4400 completed, total reward 39.42493840945289, mean return -2.16\n",
      "Episode 4500 completed, total reward 12.326964136945534, mean return -4.04\n",
      "Episode 4600 completed, total reward 40.61878874105838, mean return 7.23\n",
      "Episode 4700 completed, total reward -188.97637827554877, mean return -22.61\n",
      "Episode 4800 completed, total reward -107.9075472519532, mean return -6.08\n",
      "Episode 4900 completed, total reward -38.96283734228949, mean return -1.62\n",
      "Episode 5000 completed, total reward 39.42684770602344, mean return 24.58\n",
      "Episode 5100 completed, total reward 39.66215345103831, mean return 11.81\n",
      "Episode 5200 completed, total reward 58.614600351832664, mean return 33.04\n",
      "Episode 5300 completed, total reward 9.450714559693816, mean return 22.43\n",
      "Episode 5400 completed, total reward -15.947561087427161, mean return 25.15\n",
      "Episode 5500 completed, total reward -6.193453746049954, mean return 28.66\n",
      "Episode 5600 completed, total reward 33.91072177846873, mean return 23.26\n",
      "Episode 5700 completed, total reward 21.92503163294326, mean return 36.74\n",
      "Episode 5800 completed, total reward 2.5768280903693324, mean return 46.81\n",
      "Episode 5900 completed, total reward 39.047547059195324, mean return 55.43\n",
      "Episode 6000 completed, total reward 31.06264389974079, mean return 53.46\n",
      "Episode 6100 completed, total reward 155.81903716532452, mean return 80.45\n",
      "Episode 6200 completed, total reward 111.01985203553058, mean return 81.99\n",
      "Episode 6300 completed, total reward 155.3202841064706, mean return 112.1\n",
      "Episode 6400 completed, total reward 123.73482973003017, mean return 90.8\n",
      "Episode 6500 completed, total reward 117.80351109642513, mean return 79.11\n",
      "Episode 6600 completed, total reward -0.8557847597890884, mean return 68.0\n",
      "Episode 6700 completed, total reward 60.44147879087781, mean return 79.44\n",
      "Episode 6800 completed, total reward 79.43823423913747, mean return 96.89\n",
      "Episode 6900 completed, total reward 115.4045175087388, mean return 101.87\n",
      "Episode 7000 completed, total reward 124.31734300893429, mean return 107.32\n",
      "Episode 7100 completed, total reward -41.500114356548465, mean return 92.94\n",
      "Episode 7200 completed, total reward 121.08032204500418, mean return 81.56\n",
      "Episode 7300 completed, total reward 110.2248420801477, mean return 127.63\n",
      "Episode 7400 completed, total reward 136.59608642315882, mean return 117.68\n",
      "Episode 7500 completed, total reward 161.01304329185098, mean return 124.33\n",
      "Episode 7600 completed, total reward 154.45960114472217, mean return 129.02\n",
      "Episode 7700 completed, total reward 153.92504626372434, mean return 115.79\n",
      "Episode 7800 completed, total reward 177.3873511384069, mean return 151.26\n",
      "Episode 7900 completed, total reward 43.646135170979875, mean return 107.74\n",
      "Episode 8000 completed, total reward 151.97190296780798, mean return 118.9\n",
      "Episode 8100 completed, total reward 191.96261765751385, mean return 123.45\n",
      "Episode 8200 completed, total reward 151.09394805275323, mean return 131.95\n",
      "Episode 8300 completed, total reward -13.339954876665331, mean return 77.79\n",
      "Episode 8400 completed, total reward 120.91143768734156, mean return 128.61\n",
      "Episode 8500 completed, total reward 118.93408642185628, mean return 100.27\n",
      "Episode 8600 completed, total reward 151.04759233810574, mean return 127.45\n",
      "Episode 8700 completed, total reward 152.13563083541118, mean return 110.31\n",
      "Episode 8800 completed, total reward 165.93329561961082, mean return 153.93\n",
      "Episode 8900 completed, total reward 120.18468477122659, mean return 152.97\n",
      "Episode 9000 completed, total reward 121.2122095277521, mean return 134.92\n",
      "Episode 9100 completed, total reward -2.736809349107233, mean return 135.27\n",
      "Episode 9200 completed, total reward 125.13164504200064, mean return 137.99\n",
      "Episode 9300 completed, total reward 239.245821029228, mean return 183.73\n",
      "Episode 9400 completed, total reward 118.89401240397612, mean return 188.34\n",
      "Episode 9500 completed, total reward 61.32356971185341, mean return 203.74\n",
      "Episode 9600 completed, total reward 240.18982588422583, mean return 216.95\n",
      "Episode 9700 completed, total reward 283.6615353955571, mean return 246.37\n",
      "Episode 9800 completed, total reward 224.69385432463858, mean return 234.79\n",
      "Episode 9900 completed, total reward 252.0868558403044, mean return 235.05\n",
      "Episode 10000 completed, total reward 251.9706510114616, mean return 202.18\n",
      "Episode 10100 completed, total reward 290.93304277469645, mean return 251.46\n",
      "Episode 10200 completed, total reward 265.6557702290137, mean return 254.82\n",
      "Episode 10300 completed, total reward 268.59900967668034, mean return 229.01\n",
      "Episode 10400 completed, total reward 288.65796945831187, mean return 262.72\n",
      "Episode 10500 completed, total reward 275.97303107309307, mean return 234.99\n",
      "Episode 10600 completed, total reward 291.29783289490797, mean return 241.17\n",
      "Episode 10700 completed, total reward 277.9578448701995, mean return 232.79\n",
      "Episode 10800 completed, total reward 47.4820816726953, mean return 159.77\n",
      "Episode 10900 completed, total reward 221.50180487314057, mean return 233.27\n"
     ]
    },
    {
     "name": "stdout",
     "output_type": "stream",
     "text": [
      "Episode 11000 completed, total reward 258.4157618276004, mean return 227.42\n",
      "Episode 11100 completed, total reward 268.6644157557035, mean return 244.74\n",
      "Episode 11200 completed, total reward 15.994919923992015, mean return 172.39\n",
      "Episode 11300 completed, total reward 238.35800218263824, mean return 240.35\n",
      "Episode 11400 completed, total reward 87.9139622223596, mean return 237.77\n",
      "Episode 11500 completed, total reward 287.8468080192732, mean return 251.8\n",
      "Episode 11600 completed, total reward 213.51524941309233, mean return 229.12\n",
      "Episode 11700 completed, total reward 228.5242756152664, mean return 242.27\n",
      "Episode 11800 completed, total reward 251.1043610001909, mean return 233.77\n",
      "Episode 11900 completed, total reward 271.3661550924058, mean return 233.58\n",
      "Episode 12000 completed, total reward 244.9425292404007, mean return 254.31\n",
      "Episode 12100 completed, total reward 265.3259081769062, mean return 260.1\n",
      "Episode 12200 completed, total reward 278.6254402512278, mean return 242.82\n",
      "Episode 12300 completed, total reward 257.1477903821289, mean return 223.03\n",
      "Episode 12400 completed, total reward 276.00066943360116, mean return 252.64\n",
      "Episode 12500 completed, total reward 209.9032478027485, mean return 178.7\n",
      "Episode 12600 completed, total reward 310.159518605652, mean return 224.47\n",
      "Episode 12700 completed, total reward 278.14496665367625, mean return 265.57\n",
      "Episode 12800 completed, total reward 254.91488039618082, mean return 223.85\n",
      "Episode 12900 completed, total reward 281.00028343717065, mean return 223.42\n",
      "Episode 13000 completed, total reward 284.31826869280707, mean return 243.05\n",
      "Episode 13100 completed, total reward 18.018163321754216, mean return 221.93\n",
      "Episode 13200 completed, total reward 58.15309540032277, mean return 219.42\n",
      "Episode 13300 completed, total reward 285.21064440765997, mean return 263.61\n",
      "Episode 13400 completed, total reward 272.59555587300395, mean return 253.54\n",
      "Episode 13500 completed, total reward 281.2741062551502, mean return 265.15\n",
      "Episode 13600 completed, total reward 269.9737716293598, mean return 240.41\n",
      "Episode 13700 completed, total reward 241.69338239414, mean return 256.49\n",
      "Episode 13800 completed, total reward 301.5829546193735, mean return 252.5\n",
      "Episode 13900 completed, total reward 295.4140195042496, mean return 241.15\n",
      "Episode 14000 completed, total reward 175.5685304476459, mean return 259.89\n",
      "Episode 14100 completed, total reward 291.39138935832756, mean return 269.26\n",
      "Episode 14200 completed, total reward 259.1800777219685, mean return 253.7\n",
      "Episode 14300 completed, total reward 246.18997491041964, mean return 250.9\n",
      "Episode 14400 completed, total reward 303.9140849265865, mean return 275.81\n",
      "Episode 14500 completed, total reward 295.58134463166004, mean return 269.15\n",
      "Episode 14600 completed, total reward 239.8690298695266, mean return 271.51\n",
      "Episode 14700 completed, total reward 305.329930016445, mean return 263.4\n",
      "Episode 14800 completed, total reward 278.90707668950745, mean return 238.63\n",
      "Episode 14900 completed, total reward 309.32741404534653, mean return 243.29\n",
      "Episode 15000 completed, total reward 34.92089060963869, mean return 179.51\n",
      "Episode 15100 completed, total reward 259.95733775858594, mean return 189.91\n",
      "Episode 15200 completed, total reward 300.41748797697085, mean return 187.92\n",
      "Episode 15300 completed, total reward 266.21967283759477, mean return 175.26\n",
      "Episode 15400 completed, total reward 268.00773346685895, mean return 171.62\n",
      "Episode 15500 completed, total reward 196.44643741830987, mean return 140.46\n",
      "Episode 15600 completed, total reward 276.3440151271619, mean return 186.83\n",
      "Episode 15700 completed, total reward 290.06417473279413, mean return 231.01\n",
      "Episode 15800 completed, total reward 50.354098806556266, mean return 213.23\n",
      "Episode 15900 completed, total reward 267.0434782436454, mean return 236.29\n",
      "Episode 16000 completed, total reward 55.62113430664371, mean return 202.99\n",
      "Episode 16100 completed, total reward 226.94715765509227, mean return 236.69\n",
      "Episode 16200 completed, total reward 212.3110273496959, mean return 238.91\n",
      "Episode 16300 completed, total reward 276.9679250082928, mean return 227.89\n",
      "Episode 16400 completed, total reward -18.368738737830455, mean return 181.42\n",
      "Episode 16500 completed, total reward 304.14331484416743, mean return 212.71\n",
      "Episode 16600 completed, total reward 257.0093302863013, mean return 205.87\n",
      "Episode 16700 completed, total reward 238.89723626838037, mean return 242.05\n",
      "Episode 16800 completed, total reward 282.39291673866614, mean return 237.57\n",
      "Episode 16900 completed, total reward 251.78390151247814, mean return 244.06\n",
      "Episode 17000 completed, total reward 255.66516728799425, mean return 241.32\n",
      "Episode 17100 completed, total reward 238.8683428809105, mean return 267.35\n",
      "Episode 17200 completed, total reward 229.0602302420108, mean return 268.87\n",
      "Episode 17300 completed, total reward 288.49823272863796, mean return 273.2\n",
      "Episode 17400 completed, total reward 274.31996793605344, mean return 271.82\n",
      "Episode 17500 completed, total reward 241.51707943966036, mean return 245.09\n",
      "Episode 17600 completed, total reward 7.098911355093037, mean return 197.82\n",
      "Episode 17700 completed, total reward 249.3053385337897, mean return 253.91\n",
      "Episode 17800 completed, total reward 36.51054614483627, mean return 181.51\n",
      "Episode 17900 completed, total reward 215.91677064053448, mean return 188.12\n",
      "Episode 18000 completed, total reward 256.6430123467694, mean return 160.21\n",
      "Episode 18100 completed, total reward 6.997779298874065, mean return 170.75\n",
      "Episode 18200 completed, total reward 280.4068872577014, mean return 181.82\n",
      "Episode 18300 completed, total reward 263.4010752920795, mean return 206.82\n",
      "Episode 18400 completed, total reward 269.6202857035301, mean return 203.0\n",
      "Episode 18500 completed, total reward 24.782804182092633, mean return 178.12\n",
      "Episode 18600 completed, total reward 292.8014158146467, mean return 248.82\n",
      "Episode 18700 completed, total reward 280.5929253763501, mean return 225.38\n",
      "Episode 18800 completed, total reward 41.76913774678894, mean return 205.97\n",
      "Episode 18900 completed, total reward 284.54805850257577, mean return 260.31\n",
      "Episode 19000 completed, total reward 271.88685284508995, mean return 216.68\n",
      "Episode 19100 completed, total reward 255.1104822991185, mean return 248.53\n",
      "Episode 19200 completed, total reward 19.206126321997814, mean return 236.66\n",
      "Episode 19300 completed, total reward 298.5876131235025, mean return 234.6\n",
      "Episode 19400 completed, total reward 264.71347918775416, mean return 236.27\n",
      "Episode 19500 completed, total reward 268.0138445611591, mean return 225.13\n",
      "Episode 19600 completed, total reward 41.40892252862207, mean return 234.77\n",
      "Episode 19700 completed, total reward 15.779328611345704, mean return 227.66\n",
      "Episode 19800 completed, total reward 16.39661455728087, mean return 208.25\n",
      "Episode 19900 completed, total reward 233.6881773053726, mean return 213.09\n",
      "Episode 20000 completed, total reward 250.60620665320138, mean return 208.38\n"
     ]
    }
   ],
   "source": [
    "returns = REINFORCE(env, net, opti, num_trajs=100, print_every= 100)"
   ]
  },
  {
   "cell_type": "code",
   "execution_count": 39,
   "metadata": {},
   "outputs": [
    {
     "data": {
      "text/plain": [
       "[<matplotlib.lines.Line2D at 0x7f8b489c70f0>]"
      ]
     },
     "execution_count": 39,
     "metadata": {},
     "output_type": "execute_result"
    },
    {
     "data": {
      "image/png": "[encoded data removed]",
      "text/plain": [
       "<Figure size 432x288 with 1 Axes>"
      ]
     },
     "metadata": {},
     "output_type": "display_data"
    }
   ],
   "source": [
    "plt.plot(returns)"
   ]
  },
  {
   "cell_type": "code",
   "execution_count": 14,
   "metadata": {},
   "outputs": [],
   "source": [
    "net.load_state_dict(torch.load('Policies/LunarLander.dat'))"
   ]
  },
  {
   "cell_type": "code",
   "execution_count": 15,
   "metadata": {},
   "outputs": [],
   "source": [
    "for i in range(1):\n",
    "    state = env.reset()\n",
    "    rewards = []\n",
    "    while True:\n",
    "        env.render()\n",
    "        time.sleep(.03)\n",
    "        state_v = torch.FloatTensor(state).unsqueeze(0)\n",
    "        p_v = net(state_v)\n",
    "        p = p_v.detach().numpy().squeeze()\n",
    "        action = np.argmax(p)\n",
    "        state, reward, done, _ = env.step(action)\n",
    "        rewards.append(reward)\n",
    "        if done:\n",
    "            break"
   ]
  },
  {
   "cell_type": "code",
   "execution_count": 13,
   "metadata": {},
   "outputs": [
    {
     "data": {
      "text/plain": [
       "-700.5969779549818"
      ]
     },
     "execution_count": 13,
     "metadata": {},
     "output_type": "execute_result"
    }
   ],
   "source": [
    "sum(rewards)"
   ]
  },
  {
   "cell_type": "code",
   "execution_count": null,
   "metadata": {},
   "outputs": [],
   "source": []
  }
 ],
 "metadata": {
  "kernelspec": {
   "display_name": "Python [default]",
   "language": "python",
   "name": "python3"
  },
  "language_info": {
   "codemirror_mode": {
    "name": "ipython",
    "version": 3
   },
   "file_extension": ".py",
   "mimetype": "text/x-python",
   "name": "python",
   "nbconvert_exporter": "python",
   "pygments_lexer": "ipython3",
   "version": "3.6.5"
  }
 },
 "nbformat": 4,
 "nbformat_minor": 2
}
