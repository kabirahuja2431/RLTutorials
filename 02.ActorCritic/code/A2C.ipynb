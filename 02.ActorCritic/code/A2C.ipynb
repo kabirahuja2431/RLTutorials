{
 "cells": [
  {
   "cell_type": "code",
   "execution_count": 166,
   "metadata": {},
   "outputs": [],
   "source": [
    "import numpy as np\n",
    "import matplotlib.pyplot as plt\n",
    "import torch\n",
    "import torch.nn as nn\n",
    "import torch.optim as optim\n",
    "import gym\n",
    "import copy\n",
    "import time"
   ]
  },
  {
   "cell_type": "code",
   "execution_count": 2,
   "metadata": {},
   "outputs": [],
   "source": [
    "class Actor(nn.Module):\n",
    "    \n",
    "    def __init__(self, obs_dim, act_dim, hidden_size = 64):\n",
    "        '''\n",
    "        Initializing a 2 layer neural net\n",
    "        '''\n",
    "        super(Actor, self).__init__()\n",
    "        self.policy = nn.Sequential(\n",
    "                        nn.Linear(obs_dim, hidden_size),\n",
    "                        nn.ReLU(),\n",
    "                        nn.Linear(hidden_size, act_dim),\n",
    "                        nn.Softmax(dim = -1)\n",
    "                    )\n",
    "        \n",
    "    def forward(self, x):\n",
    "        '''\n",
    "        Input:\n",
    "            -x : A tensor of shape [batch_size, obs_dim] representing the state\n",
    "        \n",
    "        Returns a tensor of shape [batch_size, act_dim] representing the probability of taking each action\n",
    "        '''\n",
    "        return self.policy(x)"
   ]
  },
  {
   "cell_type": "code",
   "execution_count": 3,
   "metadata": {},
   "outputs": [],
   "source": [
    "class Critic(nn.Module):\n",
    "    \n",
    "    def __init__(self, obs_dim, hidden_size = 64):\n",
    "        '''\n",
    "        Initializing a 2 layer neural net\n",
    "        '''\n",
    "        super(Critic, self).__init__()\n",
    "        self.value = nn.Sequential(\n",
    "                        nn.Linear(obs_dim, hidden_size),\n",
    "                        nn.ReLU(),\n",
    "                        nn.Linear(hidden_size, 1),\n",
    "                    )\n",
    "        \n",
    "    def forward(self, x):\n",
    "        '''\n",
    "        Input:\n",
    "            -x : A tensor of shape [batch_size, obs_dim] representing the state\n",
    "        \n",
    "        Returns a tensor of shape [batch_size, 1] representing the value function of input state\n",
    "        '''\n",
    "        return self.value(x)"
   ]
  },
  {
   "cell_type": "code",
   "execution_count": 121,
   "metadata": {},
   "outputs": [],
   "source": [
    "env = gym.make('CartPole-v0')"
   ]
  },
  {
   "cell_type": "code",
   "execution_count": 122,
   "metadata": {},
   "outputs": [],
   "source": [
    "obs_dim = env.observation_space.shape[0]\n",
    "act_dim = env.action_space.n"
   ]
  },
  {
   "cell_type": "code",
   "execution_count": 150,
   "metadata": {},
   "outputs": [],
   "source": [
    "net_act = Actor(obs_dim, act_dim)"
   ]
  },
  {
   "cell_type": "code",
   "execution_count": 151,
   "metadata": {},
   "outputs": [],
   "source": [
    "net_crt = Critic(obs_dim)"
   ]
  },
  {
   "cell_type": "code",
   "execution_count": 152,
   "metadata": {},
   "outputs": [
    {
     "data": {
      "text/plain": [
       "Actor(\n",
       "  (policy): Sequential(\n",
       "    (0): Linear(in_features=4, out_features=64, bias=True)\n",
       "    (1): ReLU()\n",
       "    (2): Linear(in_features=64, out_features=2, bias=True)\n",
       "    (3): Softmax()\n",
       "  )\n",
       ")"
      ]
     },
     "execution_count": 152,
     "metadata": {},
     "output_type": "execute_result"
    }
   ],
   "source": [
    "net_act"
   ]
  },
  {
   "cell_type": "code",
   "execution_count": 153,
   "metadata": {},
   "outputs": [
    {
     "data": {
      "text/plain": [
       "Critic(\n",
       "  (value): Sequential(\n",
       "    (0): Linear(in_features=4, out_features=64, bias=True)\n",
       "    (1): ReLU()\n",
       "    (2): Linear(in_features=64, out_features=1, bias=True)\n",
       "  )\n",
       ")"
      ]
     },
     "execution_count": 153,
     "metadata": {},
     "output_type": "execute_result"
    }
   ],
   "source": [
    "net_crt"
   ]
  },
  {
   "cell_type": "code",
   "execution_count": 154,
   "metadata": {},
   "outputs": [],
   "source": [
    "opti_act = optim.Adam(net_act.parameters(), lr = 0.01)"
   ]
  },
  {
   "cell_type": "code",
   "execution_count": 155,
   "metadata": {},
   "outputs": [],
   "source": [
    "opti_crt = optim.Adam(net_crt.parameters(), lr = 0.01)"
   ]
  },
  {
   "cell_type": "code",
   "execution_count": 193,
   "metadata": {},
   "outputs": [],
   "source": [
    "def find_q_vals(rewards, last_q_val, gamma):\n",
    "    \n",
    "    '''\n",
    "    \n",
    "    Computes the q values using the finite horizon method as we saw in the slides\n",
    "    \n",
    "    Inputs:\n",
    "        - rewards : A tensor containing rewards for T time steps\n",
    "        - last_val : Value function of the last state\n",
    "        - gamma : discount factor\n",
    "    '''\n",
    "    \n",
    "    q_vals = torch.zeros_like(rewards)\n",
    "    q_vals[-1] = last_val.squeeze()\n",
    "    \n",
    "    for t in reversed(range(len(rewards)-1)):\n",
    "        q_vals[t] = rewards[t] + gamma * q_vals[t+1]\n",
    "        \n",
    "    return q_vals"
   ]
  },
  {
   "cell_type": "code",
   "execution_count": 194,
   "metadata": {},
   "outputs": [],
   "source": [
    "def an_actors_life(env, net_act, net_crt, init_state, gamma =0.99, T = 20):\n",
    "    \n",
    "    '''\n",
    "    Actor interacts with environment for T steps, then computes the policy and value gradients and store them\n",
    "    \n",
    "    Inputs:\n",
    "        - env : Gym environment\n",
    "        - net_act : Actor network\n",
    "        - net_crt : Critic network\n",
    "        - init_state : Initial state to start the trajectory from\n",
    "        - gamma : discount factor\n",
    "        - T : Horizon length\n",
    "    '''\n",
    "    \n",
    "    states = []\n",
    "    logps = []\n",
    "    rewards = []\n",
    "    state = init_state\n",
    "    \n",
    "    #Play the game for T steps\n",
    "    for i in range(T):\n",
    "        states.append(state)\n",
    "        state_v = torch.FloatTensor([state])\n",
    "        p_v = net_act(state_v)\n",
    "        p = p_v.detach().numpy().squeeze()\n",
    "        action = np.random.choice(np.arange(act_dim), p = p)\n",
    "        state, reward, done, _ = env.step(action)\n",
    "        rewards.append(reward)\n",
    "        logps.append(torch.log(p_v)[:1, action])\n",
    "        \n",
    "        if done:\n",
    "            state = env.reset()\n",
    "            break\n",
    "    \n",
    "    #Converting states, logps and rewards to torch tensors\n",
    "    states_v = torch.FloatTensor(states)\n",
    "    logps_v = torch.cat(logps, dim = 0)\n",
    "    rewards_v = torch.FloatTensor(rewards)\n",
    "    \n",
    "    #Defining the value function corresponding to the final state\n",
    "    if done:\n",
    "        last_val = torch.FloatTensor([0])\n",
    "    else:\n",
    "        last_val = net_crt(states_v[-1:])\n",
    "    \n",
    "    #Compute advantages\n",
    "    q_vals = find_q_vals(rewards_v, last_val, gamma).detach()\n",
    "    vals = net_crt(states_v)\n",
    "    advs = (q_vals - vals.squeeze()).detach()\n",
    "    \n",
    "    #Accumulate the gradients for critic\n",
    "    loss_crt = ((q_vals - vals.squeeze())**2).mean()\n",
    "    loss_crt.backward()\n",
    "    \n",
    "    #Accumulate the gradients of actor\n",
    "    loss_act = (-logps_v * advs).mean()\n",
    "    loss_act.backward()\n",
    "    \n",
    "    return env, state\n",
    "    "
   ]
  },
  {
   "cell_type": "code",
   "execution_count": 195,
   "metadata": {},
   "outputs": [],
   "source": [
    "def test(env, net_act):\n",
    "    \n",
    "    state = env.reset()\n",
    "    tot_reward = 0\n",
    "    while True:\n",
    "        state_v = torch.FloatTensor(state).unsqueeze(0)\n",
    "        p_v = net_act(state_v)\n",
    "        p = p_v.detach().numpy().squeeze()\n",
    "        action = np.random.choice(np.arange(act_dim), p = p)\n",
    "        state, reward, done, _ = env.step(action)\n",
    "\n",
    "        tot_reward += reward\n",
    "        if done:\n",
    "            break\n",
    "            \n",
    "    return tot_reward"
   ]
  },
  {
   "cell_type": "code",
   "execution_count": 159,
   "metadata": {},
   "outputs": [],
   "source": [
    "def A2C(env, net_act, net_crt, opti_act, opti_crt, N_actrs = 10, T = 20, num_runs = 20000, gamma = 0.99, test_every = 1):\n",
    "    \n",
    "    \n",
    "    running_return = 0\n",
    "    running_returns = []\n",
    "    ep = 0\n",
    "    t = 0\n",
    "    state = env.reset()\n",
    "    states = []\n",
    "    logps = []\n",
    "    rewards = []\n",
    "    \n",
    "    #Allocate different environment for each actor\n",
    "    envs = [copy.deepcopy(env) for _ in range(N_actrs)]\n",
    "    states = [env.reset() for env in envs]\n",
    "    for i in range(num_runs):\n",
    "        \n",
    "        net_act.zero_grad()\n",
    "        net_crt.zero_grad()\n",
    "        \n",
    "        #All actors play their parts\n",
    "        for n in range(N_actrs):\n",
    "            env, state = an_actors_life(envs[n], net_act, net_crt, states[n])\n",
    "            envs[n] = env\n",
    "            states[n] = state\n",
    "            \n",
    "        #Update actor and critic    \n",
    "        opti_crt.step()\n",
    "        opti_act.step()\n",
    "        \n",
    "        if (i+1)%test_every == 0:\n",
    "            tot_rewards = test(env, net_act)\n",
    "            running_return = 0.1*tot_rewards + 0.9*running_return\n",
    "            running_returns.append(running_return)\n",
    "            \n",
    "            print(\"Iteration {} Total reward {}, mean return {}\".format(i+1, tot_rewards, np.round(running_return,2)))\n",
    "            \n",
    "    return running_returns"
   ]
  },
  {
   "cell_type": "code",
   "execution_count": 160,
   "metadata": {},
   "outputs": [
    {
     "name": "stdout",
     "output_type": "stream",
     "text": [
      "Iteration 1 Total reward 37.0, mean return 3.7\n",
      "Iteration 2 Total reward 30.0, mean return 6.33\n",
      "Iteration 3 Total reward 23.0, mean return 8.0\n",
      "Iteration 4 Total reward 47.0, mean return 11.9\n",
      "Iteration 5 Total reward 34.0, mean return 14.11\n",
      "Iteration 6 Total reward 33.0, mean return 16.0\n",
      "Iteration 7 Total reward 31.0, mean return 17.5\n",
      "Iteration 8 Total reward 16.0, mean return 17.35\n",
      "Iteration 9 Total reward 77.0, mean return 23.31\n",
      "Iteration 10 Total reward 31.0, mean return 24.08\n",
      "Iteration 11 Total reward 35.0, mean return 25.17\n",
      "Iteration 12 Total reward 41.0, mean return 26.76\n",
      "Iteration 13 Total reward 40.0, mean return 28.08\n",
      "Iteration 14 Total reward 62.0, mean return 31.47\n",
      "Iteration 15 Total reward 105.0, mean return 38.83\n",
      "Iteration 16 Total reward 71.0, mean return 42.04\n",
      "Iteration 17 Total reward 88.0, mean return 46.64\n",
      "Iteration 18 Total reward 67.0, mean return 48.67\n",
      "Iteration 19 Total reward 79.0, mean return 51.71\n",
      "Iteration 20 Total reward 61.0, mean return 52.64\n",
      "Iteration 21 Total reward 68.0, mean return 54.17\n",
      "Iteration 22 Total reward 40.0, mean return 52.76\n",
      "Iteration 23 Total reward 60.0, mean return 53.48\n",
      "Iteration 24 Total reward 96.0, mean return 57.73\n",
      "Iteration 25 Total reward 43.0, mean return 56.26\n",
      "Iteration 26 Total reward 42.0, mean return 54.83\n",
      "Iteration 27 Total reward 105.0, mean return 59.85\n",
      "Iteration 28 Total reward 54.0, mean return 59.26\n",
      "Iteration 29 Total reward 23.0, mean return 55.64\n",
      "Iteration 30 Total reward 35.0, mean return 53.57\n",
      "Iteration 31 Total reward 25.0, mean return 50.72\n",
      "Iteration 32 Total reward 40.0, mean return 49.65\n",
      "Iteration 33 Total reward 99.0, mean return 54.58\n",
      "Iteration 34 Total reward 67.0, mean return 55.82\n",
      "Iteration 35 Total reward 196.0, mean return 69.84\n",
      "Iteration 36 Total reward 155.0, mean return 78.36\n",
      "Iteration 37 Total reward 73.0, mean return 77.82\n",
      "Iteration 38 Total reward 196.0, mean return 89.64\n",
      "Iteration 39 Total reward 200.0, mean return 100.67\n",
      "Iteration 40 Total reward 197.0, mean return 110.31\n",
      "Iteration 41 Total reward 120.0, mean return 111.28\n",
      "Iteration 42 Total reward 165.0, mean return 116.65\n",
      "Iteration 43 Total reward 200.0, mean return 124.98\n",
      "Iteration 44 Total reward 134.0, mean return 125.89\n",
      "Iteration 45 Total reward 111.0, mean return 124.4\n",
      "Iteration 46 Total reward 121.0, mean return 124.06\n",
      "Iteration 47 Total reward 181.0, mean return 129.75\n",
      "Iteration 48 Total reward 132.0, mean return 129.98\n",
      "Iteration 49 Total reward 141.0, mean return 131.08\n",
      "Iteration 50 Total reward 195.0, mean return 137.47\n",
      "Iteration 51 Total reward 136.0, mean return 137.32\n",
      "Iteration 52 Total reward 200.0, mean return 143.59\n",
      "Iteration 53 Total reward 42.0, mean return 133.43\n",
      "Iteration 54 Total reward 62.0, mean return 126.29\n",
      "Iteration 55 Total reward 140.0, mean return 127.66\n",
      "Iteration 56 Total reward 146.0, mean return 129.49\n",
      "Iteration 57 Total reward 200.0, mean return 136.54\n",
      "Iteration 58 Total reward 200.0, mean return 142.89\n",
      "Iteration 59 Total reward 200.0, mean return 148.6\n",
      "Iteration 60 Total reward 188.0, mean return 152.54\n",
      "Iteration 61 Total reward 200.0, mean return 157.29\n",
      "Iteration 62 Total reward 200.0, mean return 161.56\n",
      "Iteration 63 Total reward 200.0, mean return 165.4\n",
      "Iteration 64 Total reward 172.0, mean return 166.06\n",
      "Iteration 65 Total reward 165.0, mean return 165.96\n",
      "Iteration 66 Total reward 200.0, mean return 169.36\n",
      "Iteration 67 Total reward 115.0, mean return 163.92\n",
      "Iteration 68 Total reward 137.0, mean return 161.23\n",
      "Iteration 69 Total reward 148.0, mean return 159.91\n",
      "Iteration 70 Total reward 143.0, mean return 158.22\n",
      "Iteration 71 Total reward 45.0, mean return 146.9\n",
      "Iteration 72 Total reward 153.0, mean return 147.51\n",
      "Iteration 73 Total reward 200.0, mean return 152.76\n",
      "Iteration 74 Total reward 168.0, mean return 154.28\n",
      "Iteration 75 Total reward 200.0, mean return 158.85\n",
      "Iteration 76 Total reward 166.0, mean return 159.57\n",
      "Iteration 77 Total reward 200.0, mean return 163.61\n",
      "Iteration 78 Total reward 200.0, mean return 167.25\n",
      "Iteration 79 Total reward 200.0, mean return 170.52\n",
      "Iteration 80 Total reward 199.0, mean return 173.37\n",
      "Iteration 81 Total reward 166.0, mean return 172.63\n",
      "Iteration 82 Total reward 200.0, mean return 175.37\n",
      "Iteration 83 Total reward 200.0, mean return 177.83\n",
      "Iteration 84 Total reward 200.0, mean return 180.05\n",
      "Iteration 85 Total reward 200.0, mean return 182.05\n",
      "Iteration 86 Total reward 200.0, mean return 183.84\n",
      "Iteration 87 Total reward 200.0, mean return 185.46\n",
      "Iteration 88 Total reward 200.0, mean return 186.91\n",
      "Iteration 89 Total reward 200.0, mean return 188.22\n",
      "Iteration 90 Total reward 155.0, mean return 184.9\n",
      "Iteration 91 Total reward 200.0, mean return 186.41\n",
      "Iteration 92 Total reward 200.0, mean return 187.77\n",
      "Iteration 93 Total reward 200.0, mean return 188.99\n",
      "Iteration 94 Total reward 185.0, mean return 188.59\n",
      "Iteration 95 Total reward 135.0, mean return 183.23\n",
      "Iteration 96 Total reward 192.0, mean return 184.11\n",
      "Iteration 97 Total reward 200.0, mean return 185.7\n",
      "Iteration 98 Total reward 200.0, mean return 187.13\n",
      "Iteration 99 Total reward 117.0, mean return 180.12\n",
      "Iteration 100 Total reward 111.0, mean return 173.2\n",
      "Iteration 101 Total reward 116.0, mean return 167.48\n",
      "Iteration 102 Total reward 108.0, mean return 161.54\n",
      "Iteration 103 Total reward 110.0, mean return 156.38\n",
      "Iteration 104 Total reward 49.0, mean return 145.64\n",
      "Iteration 105 Total reward 136.0, mean return 144.68\n",
      "Iteration 106 Total reward 107.0, mean return 140.91\n",
      "Iteration 107 Total reward 137.0, mean return 140.52\n",
      "Iteration 108 Total reward 112.0, mean return 137.67\n",
      "Iteration 109 Total reward 104.0, mean return 134.3\n",
      "Iteration 110 Total reward 113.0, mean return 132.17\n",
      "Iteration 111 Total reward 100.0, mean return 128.95\n",
      "Iteration 112 Total reward 125.0, mean return 128.56\n",
      "Iteration 113 Total reward 200.0, mean return 135.7\n",
      "Iteration 114 Total reward 200.0, mean return 142.13\n",
      "Iteration 115 Total reward 200.0, mean return 147.92\n",
      "Iteration 116 Total reward 117.0, mean return 144.83\n",
      "Iteration 117 Total reward 121.0, mean return 142.44\n",
      "Iteration 118 Total reward 113.0, mean return 139.5\n",
      "Iteration 119 Total reward 97.0, mean return 135.25\n",
      "Iteration 120 Total reward 119.0, mean return 133.63\n",
      "Iteration 121 Total reward 100.0, mean return 130.26\n",
      "Iteration 122 Total reward 110.0, mean return 128.24\n",
      "Iteration 123 Total reward 107.0, mean return 126.11\n",
      "Iteration 124 Total reward 120.0, mean return 125.5\n",
      "Iteration 125 Total reward 102.0, mean return 123.15\n",
      "Iteration 126 Total reward 109.0, mean return 121.74\n",
      "Iteration 127 Total reward 109.0, mean return 120.46\n",
      "Iteration 128 Total reward 110.0, mean return 119.42\n",
      "Iteration 129 Total reward 56.0, mean return 113.07\n",
      "Iteration 130 Total reward 120.0, mean return 113.77\n",
      "Iteration 131 Total reward 106.0, mean return 112.99\n",
      "Iteration 132 Total reward 117.0, mean return 113.39\n",
      "Iteration 133 Total reward 126.0, mean return 114.65\n",
      "Iteration 134 Total reward 119.0, mean return 115.09\n",
      "Iteration 135 Total reward 114.0, mean return 114.98\n",
      "Iteration 136 Total reward 120.0, mean return 115.48\n",
      "Iteration 137 Total reward 120.0, mean return 115.93\n",
      "Iteration 138 Total reward 138.0, mean return 118.14\n",
      "Iteration 139 Total reward 112.0, mean return 117.53\n",
      "Iteration 140 Total reward 103.0, mean return 116.07\n",
      "Iteration 141 Total reward 153.0, mean return 119.77\n",
      "Iteration 142 Total reward 121.0, mean return 119.89\n",
      "Iteration 143 Total reward 114.0, mean return 119.3\n",
      "Iteration 144 Total reward 112.0, mean return 118.57\n",
      "Iteration 145 Total reward 111.0, mean return 117.81\n",
      "Iteration 146 Total reward 118.0, mean return 117.83\n",
      "Iteration 147 Total reward 125.0, mean return 118.55\n",
      "Iteration 148 Total reward 123.0, mean return 118.99\n",
      "Iteration 149 Total reward 137.0, mean return 120.79\n",
      "Iteration 150 Total reward 140.0, mean return 122.71\n",
      "Iteration 151 Total reward 173.0, mean return 127.74\n",
      "Iteration 152 Total reward 152.0, mean return 130.17\n",
      "Iteration 153 Total reward 200.0, mean return 137.15\n",
      "Iteration 154 Total reward 200.0, mean return 143.44\n",
      "Iteration 155 Total reward 200.0, mean return 149.09\n",
      "Iteration 156 Total reward 200.0, mean return 154.18\n",
      "Iteration 157 Total reward 200.0, mean return 158.77\n",
      "Iteration 158 Total reward 200.0, mean return 162.89\n",
      "Iteration 159 Total reward 200.0, mean return 166.6\n"
     ]
    },
    {
     "name": "stdout",
     "output_type": "stream",
     "text": [
      "Iteration 160 Total reward 200.0, mean return 169.94\n",
      "Iteration 161 Total reward 200.0, mean return 172.95\n",
      "Iteration 162 Total reward 200.0, mean return 175.65\n",
      "Iteration 163 Total reward 200.0, mean return 178.09\n",
      "Iteration 164 Total reward 200.0, mean return 180.28\n",
      "Iteration 165 Total reward 200.0, mean return 182.25\n",
      "Iteration 166 Total reward 200.0, mean return 184.02\n",
      "Iteration 167 Total reward 138.0, mean return 179.42\n",
      "Iteration 168 Total reward 200.0, mean return 181.48\n",
      "Iteration 169 Total reward 169.0, mean return 180.23\n",
      "Iteration 170 Total reward 146.0, mean return 176.81\n",
      "Iteration 171 Total reward 200.0, mean return 179.13\n",
      "Iteration 172 Total reward 200.0, mean return 181.22\n",
      "Iteration 173 Total reward 200.0, mean return 183.09\n",
      "Iteration 174 Total reward 200.0, mean return 184.78\n",
      "Iteration 175 Total reward 200.0, mean return 186.31\n",
      "Iteration 176 Total reward 200.0, mean return 187.68\n",
      "Iteration 177 Total reward 200.0, mean return 188.91\n",
      "Iteration 178 Total reward 200.0, mean return 190.02\n",
      "Iteration 179 Total reward 200.0, mean return 191.02\n",
      "Iteration 180 Total reward 200.0, mean return 191.91\n",
      "Iteration 181 Total reward 200.0, mean return 192.72\n",
      "Iteration 182 Total reward 200.0, mean return 193.45\n",
      "Iteration 183 Total reward 200.0, mean return 194.11\n",
      "Iteration 184 Total reward 200.0, mean return 194.69\n",
      "Iteration 185 Total reward 200.0, mean return 195.23\n",
      "Iteration 186 Total reward 200.0, mean return 195.7\n",
      "Iteration 187 Total reward 200.0, mean return 196.13\n",
      "Iteration 188 Total reward 200.0, mean return 196.52\n",
      "Iteration 189 Total reward 200.0, mean return 196.87\n",
      "Iteration 190 Total reward 200.0, mean return 197.18\n",
      "Iteration 191 Total reward 200.0, mean return 197.46\n",
      "Iteration 192 Total reward 200.0, mean return 197.72\n",
      "Iteration 193 Total reward 200.0, mean return 197.94\n",
      "Iteration 194 Total reward 200.0, mean return 198.15\n",
      "Iteration 195 Total reward 200.0, mean return 198.34\n",
      "Iteration 196 Total reward 200.0, mean return 198.5\n",
      "Iteration 197 Total reward 200.0, mean return 198.65\n",
      "Iteration 198 Total reward 200.0, mean return 198.79\n",
      "Iteration 199 Total reward 200.0, mean return 198.91\n",
      "Iteration 200 Total reward 200.0, mean return 199.02\n"
     ]
    }
   ],
   "source": [
    "running_returns = A2C(env, net_act, net_crt, opti_act, opti_crt, num_runs = 200, N_actrs = 20, T = 20)"
   ]
  },
  {
   "cell_type": "code",
   "execution_count": 164,
   "metadata": {},
   "outputs": [
    {
     "data": {
      "text/plain": [
       "Text(0,0.5,'Training iterations')"
      ]
     },
     "execution_count": 164,
     "metadata": {},
     "output_type": "execute_result"
    },
    {
     "data": {
      "image/png": "[encoded data removed]",
      "text/plain": [
       "<Figure size 432x288 with 1 Axes>"
      ]
     },
     "metadata": {},
     "output_type": "display_data"
    }
   ],
   "source": [
    "plt.plot(running_returns)\n",
    "plt.xlabel(\"Mean returns\")\n",
    "plt.ylabel(\"Training iterations\")"
   ]
  },
  {
   "cell_type": "code",
   "execution_count": 162,
   "metadata": {},
   "outputs": [],
   "source": [
    "torch.save(net_act.state_dict(),'Policies/cart_pole.dat')"
   ]
  },
  {
   "cell_type": "code",
   "execution_count": 168,
   "metadata": {},
   "outputs": [
    {
     "name": "stdout",
     "output_type": "stream",
     "text": [
      "200.0\n"
     ]
    }
   ],
   "source": [
    "for i in range(1):\n",
    "    state = env.reset()\n",
    "    tot_reward = 0\n",
    "    while True:\n",
    "        env.render()\n",
    "        time.sleep(.03)\n",
    "        state_v = torch.FloatTensor(state).unsqueeze(0)\n",
    "        p_v = net_act(state_v)\n",
    "        p = p_v.detach().numpy().squeeze()\n",
    "        action = np.argmax(p)\n",
    "        state, reward, done, _ = env.step(action)\n",
    "        tot_reward += reward\n",
    "        if done:\n",
    "            break\n",
    "            \n",
    "print(tot_reward)"
   ]
  },
  {
   "cell_type": "code",
   "execution_count": null,
   "metadata": {},
   "outputs": [],
   "source": []
  }
 ],
 "metadata": {
  "kernelspec": {
   "display_name": "Python [conda env:anaconda3]",
   "language": "python",
   "name": "conda-env-anaconda3-py"
  },
  "language_info": {
   "codemirror_mode": {
    "name": "ipython",
    "version": 3
   },
   "file_extension": ".py",
   "mimetype": "text/x-python",
   "name": "python",
   "nbconvert_exporter": "python",
   "pygments_lexer": "ipython3",
   "version": "3.6.5"
  }
 },
 "nbformat": 4,
 "nbformat_minor": 2
}
